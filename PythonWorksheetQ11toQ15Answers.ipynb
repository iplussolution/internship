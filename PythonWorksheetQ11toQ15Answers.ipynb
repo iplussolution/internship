{
 "cells": [
  {
   "cell_type": "code",
   "execution_count": 23,
   "id": "b96b865d",
   "metadata": {},
   "outputs": [],
   "source": [
    "#solution to question 11\n",
    "def findFactorial_Q11(number):\n",
    "    if number == 0:\n",
    "        return 1\n",
    "    else:\n",
    "        print('Factorial of ', number, ' is')\n",
    "        return number* findFactorial(number - 1)"
   ]
  },
  {
   "cell_type": "code",
   "execution_count": 13,
   "id": "a0a7fca2",
   "metadata": {},
   "outputs": [
    {
     "name": "stdout",
     "output_type": "stream",
     "text": [
      "Factorial of  12  is\n"
     ]
    },
    {
     "data": {
      "text/plain": [
       "479001600"
      ]
     },
     "execution_count": 13,
     "metadata": {},
     "output_type": "execute_result"
    }
   ],
   "source": [
    "findFactorial_Q11(12)"
   ]
  },
  {
   "cell_type": "code",
   "execution_count": 19,
   "id": "2f52226a",
   "metadata": {},
   "outputs": [],
   "source": [
    "#solution to question 12\n",
    "def isPrimeQ12(n):\n",
    "    if n < 2:\n",
    "        return 'Its not a prime number'\n",
    "    for x in range(2, n-1):\n",
    "        if n % x == 0:\n",
    "            return 'Its not a prime number'\n",
    "        \n",
    "    else:\n",
    "        return 'Its a prime number'\n",
    "        \n",
    "    "
   ]
  },
  {
   "cell_type": "code",
   "execution_count": 22,
   "id": "754bdf3e",
   "metadata": {},
   "outputs": [
    {
     "data": {
      "text/plain": [
       "'Its a prime number'"
      ]
     },
     "execution_count": 22,
     "metadata": {},
     "output_type": "execute_result"
    }
   ],
   "source": [
    "isPrimeQ12(7)"
   ]
  },
  {
   "cell_type": "code",
   "execution_count": 26,
   "id": "162d3e31",
   "metadata": {},
   "outputs": [],
   "source": [
    "#solution to question 13\n",
    "\n",
    "def palindromeCheck(text):\n",
    "    text = text.lower()\n",
    "    \n",
    "    if text == text[::-1]:\n",
    "        return 'Its a palindrome'\n",
    "    else:\n",
    "        return 'Its not a palindrome'\n"
   ]
  },
  {
   "cell_type": "code",
   "execution_count": 27,
   "id": "bbd4bc2c",
   "metadata": {},
   "outputs": [
    {
     "data": {
      "text/plain": [
       "'Its not a palindrome'"
      ]
     },
     "execution_count": 27,
     "metadata": {},
     "output_type": "execute_result"
    }
   ],
   "source": [
    "palindromeCheck('tinuke')"
   ]
  },
  {
   "cell_type": "code",
   "execution_count": 29,
   "id": "83421aca",
   "metadata": {},
   "outputs": [
    {
     "data": {
      "text/plain": [
       "'Its a palindrome'"
      ]
     },
     "execution_count": 29,
     "metadata": {},
     "output_type": "execute_result"
    }
   ],
   "source": [
    "palindromeCheck('Madam')"
   ]
  },
  {
   "cell_type": "code",
   "execution_count": 30,
   "id": "f0a377e7",
   "metadata": {},
   "outputs": [],
   "source": [
    "#solution to question 14\n",
    "\n",
    "def thirdSideFinder(x,y):\n",
    "    z = (x**2 + y**2)**0.5\n",
    "    return 'The third side is ',z"
   ]
  },
  {
   "cell_type": "code",
   "execution_count": 31,
   "id": "74ed61b9",
   "metadata": {},
   "outputs": [
    {
     "data": {
      "text/plain": [
       "('The third side is ', 11.40175425099138)"
      ]
     },
     "execution_count": 31,
     "metadata": {},
     "output_type": "execute_result"
    }
   ],
   "source": [
    "thirdSideFinder(7,9)"
   ]
  },
  {
   "cell_type": "code",
   "execution_count": 37,
   "id": "8750f56b",
   "metadata": {},
   "outputs": [],
   "source": [
    "#solution to question 15\n",
    "\n",
    "def characterCounter(text):\n",
    "    ocur = {}\n",
    "    for character in text:\n",
    "        if character in ocur:\n",
    "            ocur[character] +=1\n",
    "            \n",
    "        else:\n",
    "            ocur[character] = 1\n",
    "    for character in ocur:\n",
    "        print(character , ocur[character])"
   ]
  },
  {
   "cell_type": "code",
   "execution_count": 38,
   "id": "4aa1bbc2",
   "metadata": {},
   "outputs": [
    {
     "name": "stdout",
     "output_type": "stream",
     "text": [
      "m 3\n",
      "y 2\n",
      "  3\n",
      "n 1\n",
      "a 1\n",
      "e 3\n",
      "i 2\n",
      "s 1\n",
      "o 1\n",
      "p 1\n"
     ]
    }
   ],
   "source": [
    "characterCounter('my name is opeyemi')"
   ]
  },
  {
   "cell_type": "code",
   "execution_count": null,
   "id": "da562506",
   "metadata": {},
   "outputs": [],
   "source": []
  }
 ],
 "metadata": {
  "kernelspec": {
   "display_name": "Python 3 (ipykernel)",
   "language": "python",
   "name": "python3"
  },
  "language_info": {
   "codemirror_mode": {
    "name": "ipython",
    "version": 3
   },
   "file_extension": ".py",
   "mimetype": "text/x-python",
   "name": "python",
   "nbconvert_exporter": "python",
   "pygments_lexer": "ipython3",
   "version": "3.9.13"
  }
 },
 "nbformat": 4,
 "nbformat_minor": 5
}
